{
 "cells": [
  {
   "cell_type": "markdown",
   "metadata": {},
   "source": [
    "# VISUALISATION OF 2015-2024 STATSCAN JOB PROJECTIONS"
   ]
  },
  {
   "cell_type": "markdown",
   "metadata": {},
   "source": [
    "This is my attempt at learning data analysis, visualization and Python (and the Anaconda Package). As a frequent user of the new job bank website provided by the government of Canada, I found it frustrating to constantly have to search for individual job descriptions to find job projections. \n",
    "\n",
    "Working with data provided from Statistics Canada, I tasked myself with developing a bigger picture view of the projected job market as envinsioned by the government statisticians."
   ]
  },
  {
   "cell_type": "markdown",
   "metadata": {},
   "source": [
    "## Data Preparation\n",
    "\n",
    "I was able to obtain several files from StatsCan but opted to only use the summary csv file which contained all the data of interest. The steps taken are as follows:\n",
    "1. Imported all the necessary libraries and modules\n",
    "2. Set up plotly for offline use in interactive ploting\n",
    "3. Renamed columns due to use of both English and French as official languages by the Canadian Govt.\n",
    "4. Split the dataFrame to sort out summary data that compiled data for job groups and selected range of interest for actual analysis\n"
   ]
  },
  {
   "cell_type": "code",
   "execution_count": 18,
   "metadata": {
    "collapsed": false
   },
   "outputs": [],
   "source": [
    "import matplotlib.pyplot as plt\n",
    "%matplotlib inline\n",
    "import numpy as np\n",
    "import pandas as pd\n",
    "\n",
    "# plotly could be installed easily with `pip install plotly`\n",
    "# Use plotly in offline mode - no user account necessary\n",
    "from plotly.offline import init_notebook_mode, iplot\n",
    "import plotly.graph_objs as go\n",
    "init_notebook_mode()\n",
    "\n",
    "\n",
    "#Turn off chained indexing warning\n",
    "pd.options.mode.chained_assignment = None  # default='warn'\n",
    "\n",
    "data=pd.read_csv(\"StatsCan_projections/Summary_sommaire_2015_2024.csv\",encoding='latin-1')\n",
    "#imports the summary csv file with job projection data       \n",
    "    \n",
    "\n",
    "#The following picks out English columns and avoids French ones which are duplicates\n",
    "df=data[['Code', 'Occupation_Name',\n",
    "       'Employment_emploi_2014', 'Employment_Growth_croissance_emploi',\n",
    "       'Retirements_retraites', 'Other_Replacement_autre_remplacement',\n",
    "       \"Total_Job_Openings_Perspective_d'emploi\",\n",
    "       'School_Leavers_Sortants_scolaires', 'Immigration',\n",
    "       'Other_Seekers_autres_chercheurs', 'Job_Seekers_Chercheurs_emploi',\n",
    "       'Recent_Labour_Market_Conditions',\n",
    "       'Future_Labour_Market_Conditions']]\n",
    "\n",
    "#Renamed columns for easier understanding and interpretation\n",
    "df.columns=['code', 'occupation_name',\n",
    "       'employment_2014', 'employment_growth',\n",
    "       'retirements', 'other_replacement',\n",
    "       \"total_job_openings\",\n",
    "       'school_leavers', 'immigration',\n",
    "       'other_seekers', 'total_job_seekers',\n",
    "       'recent_labour_market_conditions',\n",
    "       'future_labour_market_conditions']\n",
    "\n",
    "#Slice out dataset for skill levels, 0,A-D\n",
    "#Removed last two columns due to being unnecessary (N/A)\n",
    "skill_level_summary=df[:6]\n",
    "skill_level_summary=skill_level_summary[['code', 'occupation_name', 'employment_2014', 'employment_growth',\n",
    "       'retirements', 'other_replacement', 'total_job_openings',\n",
    "       'school_leavers', 'immigration', 'other_seekers', 'total_job_seekers']]\n",
    "\n",
    "\n",
    "#Slice out dataset for skill type, 1-9\n",
    "#Removed last two columns due to being unnecessary (N/A)\n",
    "skill_type_summary=df[6:16]\n",
    "skill_type_summary=skill_type_summary[['code', 'occupation_name', 'employment_2014', 'employment_growth',\n",
    "       'retirements', 'other_replacement', 'total_job_openings',\n",
    "       'school_leavers', 'immigration', 'other_seekers', 'total_job_seekers']]\n",
    "\n",
    "#Slice out all the NOC Codes available\n",
    "all_skill_levels=df[16:]\n",
    "#Create new column for the skill level as determined by the first 2 digits of the NOC code\n",
    "all_skill_levels.loc[:,'skill_level']=all_skill_levels.code.str[1:3]"
   ]
  },
  {
   "cell_type": "markdown",
   "metadata": {},
   "source": [
    "There are 5 major skill levels, 0,A,B,C and D. To enable easier identification of such skill levels, I wrote a function to determine the skill level based on the NOC Code of the occupation. This was used to create a new data point for each occupation for future reference."
   ]
  },
  {
   "cell_type": "code",
   "execution_count": 19,
   "metadata": {
    "collapsed": false
   },
   "outputs": [],
   "source": [
    "def getSkillLevel(code):\n",
    "    '''Takes an input of the skill_level (str) and determines the appropriate Skill Level.\n",
    "    code must be entered as a string'''\n",
    "    A=['0','1']\n",
    "    B=['2','3']\n",
    "    C=['4','5']\n",
    "    D=['6','7']\n",
    "    \n",
    "    if code[0]=='0':\n",
    "        return \"NOC 0\"\n",
    "    elif code[1] in A:\n",
    "        return \"NOC A\"\n",
    "    elif code[1] in B:\n",
    "        return \"NOC B\"\n",
    "    elif code[1] in C:\n",
    "        return \"NOC C\"\n",
    "    elif code[1] in D:\n",
    "        return \"NOC D\"\n",
    "    else:\n",
    "        return \"Error\"\n",
    "    \n",
    "#Create new column to store the NOC code\n",
    "all_skill_levels['NOC'] = list(map(getSkillLevel, all_skill_levels['skill_level']))\n",
    "\n",
    "#New column to store the net job openings\n",
    "difference=all_skill_levels['total_job_openings']-all_skill_levels['total_job_seekers']\n",
    "all_skill_levels['net_jobs']=difference\n",
    "\n",
    "#Sort the jobs based on number of net job openings (Highest at the top)\n",
    "all_skill_levels_sorted=all_skill_levels.sort_values('net_jobs', ascending=False, inplace=False, na_position='last')"
   ]
  },
  {
   "cell_type": "markdown",
   "metadata": {},
   "source": [
    "The function **_goodGraphs()_** was developed to cater to repeated calls for plots. Rather than write a new line for each plot, I\n",
    "looked to simplify the process to just require the dataFrame of interest and the plot title. This was based on the assumption that the plot format will be similar (atleast at this early phase of the project).\n",
    "\n",
    "I chose to use Plotly due to the interactive nature and ease of use. My previous attempts required manual splitting of data to\n",
    "allow readable plots. This was solved by the interactivity which allows the viewer to zoom into a region of interest and get actual values with good resolution."
   ]
  },
  {
   "cell_type": "code",
   "execution_count": 20,
   "metadata": {
    "collapsed": false
   },
   "outputs": [],
   "source": [
    "def goodGraphs(df,plot_title):\n",
    "    #Function that takes input of dataFrame and title and develops a Plotly graph\n",
    "    \n",
    "    # `data` is a list of datasets\n",
    "    # `go.Bar` is one of the plotly 'geoms'\n",
    "    # `x` and `y` are columns of the DataFrame\n",
    "    data = [go.Bar(\n",
    "        x=df.code,\n",
    "        y=df.net_jobs,\n",
    "        text=df.occupation_name)]\n",
    "\n",
    "    layout = go.Layout(\n",
    "        title=plot_title,    \n",
    "        xaxis=dict(\n",
    "            title='NOC Codes',\n",
    "            titlefont=dict(\n",
    "                family='Courier New, monospace',\n",
    "                size=16,\n",
    "                color='#7f7f7f'\n",
    "            )\n",
    "        ),\n",
    "        yaxis=dict(\n",
    "            title='Net Jobs',\n",
    "            titlefont=dict(\n",
    "                family='Courier New, monospace',\n",
    "                size=16,\n",
    "                color='#7f7f7f'\n",
    "            )\n",
    "        )\n",
    "    )\n",
    "\n",
    "    # Render new figure with data\n",
    "    iplot(go.Figure(data=data, layout=layout))"
   ]
  },
  {
   "cell_type": "markdown",
   "metadata": {},
   "source": [
    "## Data Visualization"
   ]
  },
  {
   "cell_type": "markdown",
   "metadata": {},
   "source": [
    "The data was sorted to provide a clearer picture where the viewer can easily identify the occupations with significant mismatches between labour demand and supply. "
   ]
  },
  {
   "cell_type": "markdown",
   "metadata": {},
   "source": [
    "### NOC 0 Occupations\n",
    "These are Management occupations, regardless of industry and education requirements.\n",
    "Most of the occupations in this category have a positive outlook (more job openings compared to the number of job seekers)\n",
    "\n",
    "This category has a fairly small number of occupations with only 29 groups provided."
   ]
  },
  {
   "cell_type": "code",
   "execution_count": 21,
   "metadata": {
    "collapsed": false
   },
   "outputs": [
    {
     "data": {
      "text/html": [
       "<div id=\"99f36e5f-cf47-4dce-adb7-9385c6e84d49\" style=\"height: 525; width: 100%;\" class=\"plotly-graph-div\"></div><script type=\"text/javascript\">require([\"plotly\"], function(Plotly) { window.PLOTLYENV=window.PLOTLYENV || {};window.PLOTLYENV.BASE_URL=\"https://plot.ly\";Plotly.newPlot(\"99f36e5f-cf47-4dce-adb7-9385c6e84d49\", [{\"y\": [10900, 8100, 6000, 3600, 2400, 1000, 900, 800, 800, 800, 600, 500, 500, 400, 400, 300, 300, 300, 300, 200, 100, 100, 100, 100, 100, 0, -100, -200, -300], \"type\": \"bar\", \"text\": [\"Retail and wholesale trade managers\", \"Managers in agriculture, horticulture and aquaculture\", \"Home building and renovation managers\", \"Managers in manufacturing and utilities\", \"Restaurant and food service managers\", \"Legislators and senior management\", \"Accommodation service managers\", \"Managers in public administration\", \"Facility operation and maintenance managers\", \"Construction managers\", \"Advertising, marketing and public relations managers & Other business services managers\", \"Financial managers\", \"Corporate sales managers\", \"Insurance, real estate and financial brokerage managers\", \"Banking, credit and other investment managers\", \"Managers in communication (except broadcasting)\", \"Managers in social, community and correctional services\", \"Computer and information systems managers\", \"School principals and administrators of elementary and secondary education\", \"Managers in health care\", \"Administrators - post-secondary education and vocational training\", \"Managers in natural resources production and fishing\", \"Engineering managers & Architecture and science managers\", \"Managers in transportation\", \"Purchasing managers & Senior managers - health, education, social and community services and membership organizations\", \"Managers in customer and personal services, n.e.c.\", \"Managers in public protection services\", \"Human resources managers\", \"Managers in art, culture, recreation and sport\"], \"x\": [\"N0621\", \"N0820\", \"N0712\", \"N0910\", \"N0631\", \"N0010\", \"N0632\", \"N0410\", \"N0714\", \"N0711\", \"N0124\", \"N0111\", \"N0601\", \"N0121\", \"N0122\", \"N0130\", \"N0423\", \"N0213\", \"N0422\", \"N0311\", \"N0421\", \"N0811\", \"N0211\", \"N0731\", \"N0113\", \"N0651\", \"N0430\", \"N0112\", \"N0510\"]}], {\"title\": \"NOC 0 Projections\", \"yaxis\": {\"title\": \"Net Jobs\", \"titlefont\": {\"size\": 16, \"color\": \"#7f7f7f\", \"family\": \"Courier New, monospace\"}}, \"xaxis\": {\"title\": \"NOC Codes\", \"titlefont\": {\"size\": 16, \"color\": \"#7f7f7f\", \"family\": \"Courier New, monospace\"}}}, {\"linkText\": \"Export to plot.ly\", \"showLink\": true})});</script>"
      ],
      "text/plain": [
       "<IPython.core.display.HTML object>"
      ]
     },
     "metadata": {},
     "output_type": "display_data"
    }
   ],
   "source": [
    "noc_0=all_skill_levels_sorted[all_skill_levels_sorted.NOC == \"NOC 0\"]\n",
    "goodGraphs(noc_0,'NOC 0 Projections')"
   ]
  },
  {
   "cell_type": "markdown",
   "metadata": {},
   "source": [
    "### NOC A Occupations\n",
    "These are occupations that usually require university education\n",
    "Most of the occupations in this category have a positive outlook (more job openings compared to the number of job seekers)\n",
    "Of particular interest is the projected future shortage of medical professionals with nurses expected to face the biggest shortage followed by physicians.\n",
    "\n",
    "On the other end of the spectrum, computer programmers and interactive media developers are expected to face a labour surplus."
   ]
  },
  {
   "cell_type": "code",
   "execution_count": 22,
   "metadata": {
    "collapsed": false
   },
   "outputs": [
    {
     "data": {
      "text/html": [
       "<div id=\"0e3384f5-749d-4732-804f-750da34d8145\" style=\"height: 525; width: 100%;\" class=\"plotly-graph-div\"></div><script type=\"text/javascript\">require([\"plotly\"], function(Plotly) { window.PLOTLYENV=window.PLOTLYENV || {};window.PLOTLYENV.BASE_URL=\"https://plot.ly\";Plotly.newPlot(\"0e3384f5-749d-4732-804f-750da34d8145\", [{\"y\": [25700, 16200, 8400, 6200, 5000, 4600, 4000, 4000, 3800, 2900, 1600, 1300, 1300, 1200, 1000, 1000, 1000, 900, 800, 600, 600, 500, 500, 400, 400, 400, 400, 400, 400, 300, 300, 300, 300, 300, 300, 200, 200, 200, 200, 100, 100, 0, 0, 0, -100, -100, -100, -200, -200, -200, -200, -200, -300, -400, -800, -1500, -1800, -3000, -6900], \"type\": \"bar\", \"text\": [\"Registered nurses and registered psychiatric nurses\", \"General practitioners and family physicians\", \"Specialist physicians\", \"College and other vocational instructors\", \"Professional occupations in business management consulting\", \"Judges, lawyers and Quebec notaries\", \"Optometrists, chiropractors and other health diagnosing and treating professionals\", \"Information systems analysts and consultants\", \"Financial auditors and accountants\", \"Aerospace engineers & Other professional engineers, n.e.c.\", \"Dentists\", \"Human resources professionals\", \"Professional occupations in religion\", \"Psychologists\", \"Secondary school teachers\", \"Social workers & Probation and parole officers and related occupations\", \"Financial and investment analysts\", \"Economists and economic policy researchers and analysts & Business development officers and marketing researchers and consultants\", \"Other financial officers\", \"Authors and writers; Editors & Journalists\", \"Life science professionals\", \"Musicians and singers; Dancers; Actors and comedians & Painters, sculptors and other visual artists\", \"Social policy researchers, consultants and program officers & Health policy researchers, consultants and program officers\", \"Elementary school and kindergarten teachers\", \"University professors and lecturers\", \"Education policy researchers, consultants and program officers & Recreation, sports and fitness policy researchers, consultants and program officers\", \"Civil engineers\", \"Software engineers and designers\", \"Program officers unique to government & Other professional occupations in social science, n.e.c.\", \"Electrical and electronics engineers\", \"Occupational therapists & Other professional occupations in therapy and assessment\", \"Industrial and manufacturing engineers & Metallurgical and materials engineers\", \"Physical science professionals\", \"Pharmacists\", \"Architects\", \"Landscape architects; Urban and land use planners & Land surveyors\", \"Mechanical engineers\", \"Audiologists and speech-language pathologists\", \"Family, marriage and other related counsellors\", \"Chemical engineers\", \"Mining engineers; Geological engineers & Petroleum engineers\", \"Database analysts and data administrators\", \"Securities agents, investment dealers and brokers\", \"Nursing co-ordinators and supervisors\", \"Physiotherapists\", \"Mathematicians, statisticians and actuaries\", \"Web designers and developers\", \"Veterinarians\", \"Librarians, archivists, conservators and curators\", \"Employment counsellors\", \"Educational counsellors\", \"Dietitians and nutritionists\", \"Translators, terminologists and interpreters\", \"Post-secondary teaching and research assistants\", \"Computer engineers (except software engineers and designers)\", \"Natural and applied science policy researchers, consultants and program officers\", \"Producers, directors, choreographers and related occupations & Conductors, composers and arrangers\", \"Professional occupations in advertising, marketing and public relations\", \"Computer programmers and interactive media developers\"], \"x\": [\"N3012\", \"N3112\", \"N3111\", \"N4021\", \"N1122\", \"N4110\", \"N3120\", \"N2171\", \"N1111\", \"N2146\", \"N3113\", \"N1121\", \"N4154\", \"N4151\", \"N4031\", \"N4152\", \"N1112\", \"N4162\", \"N1114\", \"N5121\", \"N2120\", \"N5133\", \"N4164\", \"N4032\", \"N4011\", \"N4166\", \"N2131\", \"N2173\", \"N4168\", \"N2133\", \"N3143\", \"N2141\", \"N2110\", \"N3131\", \"N2151\", \"N2152\", \"N2132\", \"N3141\", \"N4153\", \"N2134\", \"N2143\", \"N2172\", \"N1113\", \"N3011\", \"N3142\", \"N2161\", \"N2175\", \"N3114\", \"N5110\", \"N4156\", \"N4033\", \"N3132\", \"N5125\", \"N4012\", \"N2147\", \"N4161\", \"N5131\", \"N1123\", \"N2174\"]}], {\"title\": \"NOC A Projections\", \"yaxis\": {\"title\": \"Net Jobs\", \"titlefont\": {\"size\": 16, \"color\": \"#7f7f7f\", \"family\": \"Courier New, monospace\"}}, \"xaxis\": {\"title\": \"NOC Codes\", \"titlefont\": {\"size\": 16, \"color\": \"#7f7f7f\", \"family\": \"Courier New, monospace\"}}}, {\"linkText\": \"Export to plot.ly\", \"showLink\": true})});</script>"
      ],
      "text/plain": [
       "<IPython.core.display.HTML object>"
      ]
     },
     "metadata": {},
     "output_type": "display_data"
    }
   ],
   "source": [
    "noc_A=all_skill_levels_sorted[all_skill_levels_sorted.NOC == \"NOC A\"]\n",
    "goodGraphs(noc_A,'NOC A Projections')"
   ]
  },
  {
   "cell_type": "markdown",
   "metadata": {},
   "source": [
    "### NOC B Occupations\n",
    "These are occupations that usually require college education or apprenticeship training.\n",
    "Most of the occupations in this category have a positive outlook although the ratio isn't as pronounced as the previous two categories. \n",
    "\n",
    "It is of particular interest that the occupation facing the bleakest future (in terms of jobs, not necessarily prosperity) is athletics. Athletes, coaches, referees and related occupations are expected to face a surplus of labour to the tune of 17500. "
   ]
  },
  {
   "cell_type": "code",
   "execution_count": 23,
   "metadata": {
    "collapsed": false,
    "scrolled": false
   },
   "outputs": [
    {
     "data": {
      "text/html": [
       "<div id=\"19bb4bbb-a760-46a0-b542-c33726b9f8b2\" style=\"height: 525; width: 100%;\" class=\"plotly-graph-div\"></div><script type=\"text/javascript\">require([\"plotly\"], function(Plotly) { window.PLOTLYENV=window.PLOTLYENV || {};window.PLOTLYENV.BASE_URL=\"https://plot.ly\";Plotly.newPlot(\"19bb4bbb-a760-46a0-b542-c33726b9f8b2\", [{\"y\": [4400, 3800, 3600, 3200, 3100, 2600, 2400, 2300, 2100, 2000, 1900, 1800, 1800, 1600, 1600, 1500, 1500, 1400, 1400, 1300, 1200, 1200, 1200, 1200, 1200, 1100, 1100, 1000, 900, 900, 900, 900, 800, 700, 700, 600, 600, 500, 500, 500, 500, 500, 500, 400, 400, 400, 400, 300, 300, 300, 300, 300, 300, 300, 300, 300, 200, 200, 200, 200, 200, 200, 200, 200, 200, 100, 100, 100, 100, 100, 100, 100, 100, 100, 100, 0, 0, 0, 0, 0, 0, -100, -100, -100, -100, -200, -200, -200, -200, -200, -300, -300, -300, -300, -300, -400, -400, -400, -400, -500, -700, -700, -700, -700, -700, -900, -900, -1100, -1400, -1500, -2300, -2300, -2400, -2600, -2900, -3000, -4500, -8300, -14300, -17500], \"type\": \"bar\", \"text\": [\"Licensed practical nurses\", \"Transportation officers and controllers\", \"Accounting technician and bookkeepers\", \"Administrative officers\", \"Early childhood educators and assistants\", \"Contractors and supervisors, heavy equipment operator crews\", \"Contractors and supervisors, mechanic trades & Supervisors, printing and related occupations\", \"Industrial electricians & Power system electricians\", \"Agricultural service contractors, farm supervisors and specialized livestock workers & Contractors and supervisors, landscaping, grounds maintenance and horticulture services\", \"Automotive service technician, truck and bus mechanics and mechanical repairers\", \"Supervisors, assembly and fabrication\", \"Contractors and supervisors, electrical trades and telecommunications occupations\", \"Administrative assistants\", \"Chefs\", \"Hairstylists and barbers\", \"Machinists and machining and tooling inspectors & Tool and die makers\", \"Construction millwrights and industrial mechanics\", \"Technical sales specialists - wholesale trade\", \"Real estate agents and salespersons\", \"Medical administrative assistants\", \"Construction estimators\", \"Executive housekeepers & Accommodation, travel, tourism and related services supervisors; Customer and information services supervisors; Cleaning supervisors; Other services supervisors\", \"Tailors, dressmakers, furriers and milliners & Shoe repairers and shoemakers; Jewellers, jewellery and watch repairers and related occupations; Upholsterers; Funeral directors and embalmers\", \"Contractors and supervisors, other construction trades, installers, repairers and servicers\", \"Police officers (except commissioned)\", \"Electricians (except industrial and power system)\", \"Technical occupations in architecture, drafting, surveying, geomatics\", \"Concrete finishers & Tilesetters\", \"Supervisors, railway transport operations & Supervisors, motor transport and other ground transit operators\", \"Firefighters & Non-commissioned ranks of the Canadian Forces\", \"Opticians\", \"Cardiology technologists and electrophysiological diagnostic technologists, n.e.c. & Other medical technologists and technician (except dental health)\", \"Printing press operators and other trades and related occupations, n.e\", \"Executive assistants\", \"Legal administrative assistants\", \"Bricklayers\", \"Contractors and supervisors, machining, metal forming, shaping and erecting trades and related occupations\", \"Supervisors, finance and insurance office workers\", \"Welders and related machine operators\", \"Construction inspectors\", \"Technical occupations in libraries, public archives, museums and art galleries\", \"Landscape and horticulture technician and specialists\", \"Paramedical occupations\", \"Crane operators, drillers and blasters\", \"Utilities equipment operators and controllers\", \"Fishing vessel masters and fishermen/women\", \"Computer network technician\", \"Supervisors, plastic and rubber products manufacturing; Supervisors, forest products processing & Supervisors, textile, fabric, fur and leather products processing and manufacturing\", \"Purchasing agents and officers\", \"Contractors and supervisors, carpentry trades\", \"Supervisors, general office and administrative support workers\", \"Financial sales representatives\", \"Mechanical engineering technologists and technician\", \"Insurance adjusters and claims examiners; Insurance underwriters; Assessors, valuators and appraisers & Customs, ship and other brokers\", \"Medical laboratory technologists & Medical laboratory technician and pathologists' assistants\", \"Respiratory therapists, clinical perfusionists and cardiopulmonary technologists; Medical radiation technologists & Medical sonographers\", \"Contractors and supervisors, pipefitting trades\", \"Supervisors, library, correspondence and related information workers; Supervisors, mail and message distribution occupations & Supervisors, supply chain, tracking and scheduling co-ordination occupations\", \"Agricultural and fish products inspectors; Forestry technologists and technician & Conservation and fishery officers\", \"Technical occupations in physical sciences\", \"Instructors of persons with disabilities\", \"Electrical power line and cable workers & Telecommunications line and cable workers\", \"Contractors and supervisors, mining, oil and gas\", \"Other mechanics and related repairers\", \"Floor covering installers\", \"Motor vehicle body repairers\", \"Refrigeration and air conditioning mechanics; machine fitters & Elevator constructors and mechanics\", \"Logging machinary operators\", \"Supervisors, food, beverage and related products processing\", \"Animal health technologists and veterinary technician\", \"Sheet metal workers; Boilermakers; Structural metal and platework fabricators and fitters & Ironworkers\", \"Supervisors, mineral and metal processing & Supervisors, petroleum, gas and chemical processing and utilities\", \"Steamfitters, pipefitters and sprinkler system installers & Gas fitters\", \"Property administrators\", \"Paralegal and related occupations\", \"Supervisors, logging and forestry\", \"Industrial instrument technician and mechanics & Aircraft instrument, electrical and avionics mechanics, technician and inspectors\", \"Central control and process operatorsin processing and manufacturing\", \"Industrial engineering and manufacturing technologists and technician\", \"Heavy-duty equipment mechanics\", \"Electrical and electronics engineering technologists and technician\", \"Retail and wholesale buyers\", \"Biological technologists and technician\", \"Food service supervisors\", \"Insurance agents and brokers\", \"Plasterers, drywall installers and finishers and lathers\", \"Cabinetmakers\", \"Practitioners of natural healing; Massage therapists & Other technical occupations in therapy and assessment\", \"Butchers, meat cutters and fishmongers - retail and wholesale\", \"Underground production and development miners\", \"Theatre, fashion, exhibit and other creative designers & Artisans and craftspersons; Patternmakers - textile, leather and fur products\", \"Non-destructive testers and inspection technician; Engineering inspectors and regulatory officers & Inspectors in public and environmental health and occupational health and safety\", \"Telecommunications installation and repair workers & Cable television service and maintenance technician\", \"Train crew operating occupations\", \"Oil and gas well drillers, servicers, testers and related workers\", \"Civil engineering technologists and technician\", \"Retail sales supervisors\", \"Court officers and justices of the peace & Employment insurance, immigration, border services and revenue officers\", \"Plumbers\", \"Railway carmen/women & Aircraft mechanics and aircraft inspectors\", \"Human resources and recruitment officers\", \"Court reporters, transcriptionists, records management technician And statistical officers\", \"Photographers\", \"Glaziers & Insulators\", \"Announcers and other performers, n.e.c.\", \"Technical occupations in dental health care\", \"Social and community service workers\", \"Conference and event planners\", \"Roofers and shinglers\", \"Interior designers and interior decorators\", \"Painters and decorators (except interior decorators)\", \"Bakers\", \"Carpenters\", \"Other instructors & Other religious occupations\", \"Electronic service technician (household and business equipment)\", \"Film/video camera operators; Graphic arts technician; Broadcast technician; Audio/video recording technician; Other tech. / co-ord. occupations in motion picture, broadcasting, arts & Support occupations in motion picture, broadcasting, photography and the performing arts\", \"User support technician & Information systems testing technician\", \"Cooks\", \"Graphic designers and illustrators\", \"Athletes, coaches, referees and related occupations\"], \"x\": [\"N3233\", \"N2270\", \"N1311\", \"N1221\", \"N4214\", \"N7302\", \"N7301\", \"N7242\", \"N8252\", \"N7321\", \"N9220\", \"N7202\", \"N1241\", \"N6321\", \"N6341\", \"N7231\", \"N7311\", \"N6221\", \"N6232\", \"N1243\", \"N2234\", \"N6312\", \"N6342\", \"N7205\", \"N4311\", \"N7241\", \"N2250\", \"N7282\", \"N7304\", \"N4312\", \"N3231\", \"N3217\", \"N7380\", \"N1222\", \"N1242\", \"N7281\", \"N7201\", \"N1212\", \"N7237\", \"N2264\", \"N5210\", \"N2225\", \"N3234\", \"N7370\", \"N9240\", \"N8260\", \"N2281\", \"N9214\", \"N1225\", \"N7204\", \"N1211\", \"N6235\", \"N2232\", \"N1312\", \"N3211\", \"N3214\", \"N7203\", \"N1213\", \"N2222\", \"N2210\", \"N4215\", \"N7244\", \"N8220\", \"N7330\", \"N7295\", \"N7322\", \"N7313\", \"N8241\", \"N9213\", \"N3213\", \"N7233\", \"N9211\", \"N7252\", \"N1224\", \"N4211\", \"N8211\", \"N2243\", \"N9230\", \"N2233\", \"N7312\", \"N2241\", \"N6222\", \"N2221\", \"N6311\", \"N6231\", \"N7284\", \"N7272\", \"N3232\", \"N6331\", \"N8231\", \"N5243\", \"N2261\", \"N7246\", \"N7360\", \"N8232\", \"N2231\", \"N6211\", \"N1227\", \"N7251\", \"N7314\", \"N1223\", \"N1250\", \"N5221\", \"N7292\", \"N5230\", \"N3220\", \"N4212\", \"N1226\", \"N7291\", \"N5242\", \"N7294\", \"N6332\", \"N7271\", \"N4216\", \"N2242\", \"N5222\", \"N2282\", \"N6322\", \"N5241\", \"N5250\"]}], {\"title\": \"NOC B Projections\", \"yaxis\": {\"title\": \"Net Jobs\", \"titlefont\": {\"size\": 16, \"color\": \"#7f7f7f\", \"family\": \"Courier New, monospace\"}}, \"xaxis\": {\"title\": \"NOC Codes\", \"titlefont\": {\"size\": 16, \"color\": \"#7f7f7f\", \"family\": \"Courier New, monospace\"}}}, {\"linkText\": \"Export to plot.ly\", \"showLink\": true})});</script>"
      ],
      "text/plain": [
       "<IPython.core.display.HTML object>"
      ]
     },
     "metadata": {},
     "output_type": "display_data"
    }
   ],
   "source": [
    "noc_B=all_skill_levels_sorted[all_skill_levels_sorted.NOC == \"NOC B\"]\n",
    "goodGraphs(noc_B,'NOC B Projections')"
   ]
  },
  {
   "cell_type": "markdown",
   "metadata": {},
   "source": [
    "### NOC C Occupations\n",
    "These are occupations that usually require secondary school and/or occupation specific training\n",
    "\n",
    "Transport truck drivers are identified as the main candidates for a future labour shortage with numbers almost twice that of its nearest neighbour, retail salespersons. Other than the two mentioned occupations, the rest of the occupations in this category have faily small deviations in net jobs ranging from a labour surplus of 4500 and a labour shortage of 3100. "
   ]
  },
  {
   "cell_type": "code",
   "execution_count": 24,
   "metadata": {
    "collapsed": false
   },
   "outputs": [
    {
     "data": {
      "text/html": [
       "<div id=\"a375f936-2b8e-4e26-9857-63244949fa1e\" style=\"height: 525; width: 100%;\" class=\"plotly-graph-div\"></div><script type=\"text/javascript\">require([\"plotly\"], function(Plotly) { window.PLOTLYENV=window.PLOTLYENV || {};window.PLOTLYENV.BASE_URL=\"https://plot.ly\";Plotly.newPlot(\"a375f936-2b8e-4e26-9857-63244949fa1e\", [{\"y\": [26900, 11200, 3100, 2800, 2400, 2200, 1900, 1900, 1600, 1400, 1300, 1300, 1200, 1200, 1200, 1100, 1000, 1000, 800, 700, 700, 600, 600, 500, 500, 500, 500, 500, 500, 500, 300, 300, 300, 300, 200, 200, 100, 100, -100, -200, -200, -400, -600, -600, -600, -600, -700, -800, -800, -900, -1000, -1000, -1100, -1100, -1200, -1200, -1400, -1600, -2000, -2200, -2600, -2700, -4100, -4400], \"type\": \"bar\", \"text\": [\"Transport truck drivers\", \"Retail salespersons\", \"Nurse aides, orderlies and patient service associates & Other assisting occupations in support of health services\", \"Accounting and related clerks\", \"Storekeepers and partspersons; Production logistics co-ordinators & Purchasing and inventory control workers\", \"Elementary and secondary school teacher assistants\", \"Aircraft assemblers and aircraft assembly inspectors; Motor vehicle assemblers, inspectors and testers & Mechanical assemblers and inspectors\", \"Shippers and receivers\", \"Home child care providers\", \"Heavy equipment operators(except crane)\", \"Furniture and fixture assemblers and inspectors;  Other wood products assemblers and inspectors & Furniture finishers and refinishers\", \"Receptionists\", \"Home support workers, housekeepers and related occupations\", \"Delivery and courier service drivers\", \"Security guards and related security service occupations\", \"machine operators and related workers in mineral and metal products pr\", \"Boat assemblers and inspectors; Plastic products assemblers, finishers and inspectors; Industrial painters, coaters and metal finishing process operators& Other products assemblers, finishers and inspectors\", \"Library, correspondence and other clerks\", \"Bus drivers, subway operators and other transit operators\", \"Dispatchers & Transportation route and crew schedulers\", \"Bartenders\", \"Industrial butchers and meat cutters, poultry preparers and related workers\", \"Taxi and limousine drivers and chauffeurs\", \"Sawmill machine operators; Other wood processing machine operators; Lumber graders and other wood processing inspectors and graders & Woodworking machine operators\", \"Mail, postal and related workers\", \"Letter carriers\", \"Assemblers and inspectors, electrical appliance, apparatus and equipment manufacturing & Assemblers, fabricators and inspectors, industrial electrical motors and transformers\", \"Waterworks and gas maintenance workers; Pest controllers and fumigators & Other installers, repairers and servicers\", \"Legal and public protection support occupations\", \"Logging and forestry workers\", \"Travel counsellors\", \"Printing equipment operators and related occupations\", \"Public works maintenance equipment operators and related workers\", \"Hotel front desk clerks\", \"Payroll clerks\", \"Personnel  and Court clerks\", \"Pursers and flight attendants\", \"Nursery and greenhouse workers\", \"Airline ticket and service agents & Ground and water transport ticket agents, cargo service representatives and related clerks\", \"Process control and machine operators, food, beverage and related products processing; Fish and seafood plant workers & Testers and graders, food, beverage and related products processing\", \"machine operators and related workers in chemical, plastic and rubber\", \"Couriers, messengers and door-to-door distributors\", \"Industrial sewing machine operators\", \"Mine service workers and operatorsin oil and gas drilling\", \"Ma\\u00eetres d'h\\u00f4tel and hosts/hostesses\", \"Residential and commercial installers and servicers\", \"Longshore workers and material handlers\", \"Image, social and other personal consultants; Pet groomers and animal care workers & Other personal service occupations\", \"Tourism and amusement services occupations\", \"Sales and account representatives - wholesale trade (non-technical)\", \"Textile fibre and yarn, hide and pelt processing machine operators and workers; Weavers, knitters and other fabric making occupations; Fabric, fur and leather cutters & Inspectors and graders, textile, fabric, fur and leather products manufacturing\", \"Pulp mill machine operators; Papermaking and finishing machine operators& Paper converting machine operators\", \"Other customer and information services representatives\", \"Other workers in fishing and trapping and hunting occupations\", \"Electronics assemblers, fabricators, inspectors and testers\", \"Other transport equipment operators and related maintenance workers\", \"Food and beverage servers\", \"Dental assistants\", \"General office support workers\", \"Data entry clerks & Desktop publishing operators and related occupations\", \"Estheticians, electrologists and related occupations\", \"Banking, insurance and other financial clerks & Collectors\", \"Customer services representatives - financial institutions\", \"General farm workers\"], \"x\": [\"N7511\", \"N6421\", \"N3413\", \"N1431\", \"N1522\", \"N4413\", \"N9521\", \"N1521\", \"N4411\", \"N7521\", \"N9532\", \"N1414\", \"N4412\", \"N7514\", \"N6541\", \"N9410\", \"N9531\", \"N1450\", \"N7512\", \"N1525\", \"N6512\", \"N9462\", \"N7513\", \"N9431\", \"N1511\", \"N1512\", \"N9524\", \"N7442\", \"N4420\", \"N8420\", \"N6521\", \"N9470\", \"N7522\", \"N6525\", \"N1432\", \"N1415\", \"N6522\", \"N8432\", \"N6523\", \"N9461\", \"N9420\", \"N1513\", \"N9446\", \"N8410\", \"N6511\", \"N7441\", \"N7450\", \"N6561\", \"N6530\", \"N6411\", \"N9441\", \"N9432\", \"N6552\", \"N8440\", \"N9523\", \"N7530\", \"N6513\", \"N3411\", \"N1411\", \"N1422\", \"N6562\", \"N1434\", \"N6551\", \"N8431\"]}], {\"title\": \"NOC C Projections\", \"yaxis\": {\"title\": \"Net Jobs\", \"titlefont\": {\"size\": 16, \"color\": \"#7f7f7f\", \"family\": \"Courier New, monospace\"}}, \"xaxis\": {\"title\": \"NOC Codes\", \"titlefont\": {\"size\": 16, \"color\": \"#7f7f7f\", \"family\": \"Courier New, monospace\"}}}, {\"linkText\": \"Export to plot.ly\", \"showLink\": true})});</script>"
      ],
      "text/plain": [
       "<IPython.core.display.HTML object>"
      ]
     },
     "metadata": {},
     "output_type": "display_data"
    }
   ],
   "source": [
    "noc_C=all_skill_levels_sorted[all_skill_levels_sorted.NOC == \"NOC C\"]\n",
    "goodGraphs(noc_C,'NOC C Projections')"
   ]
  },
  {
   "cell_type": "markdown",
   "metadata": {},
   "source": [
    "### NOC D Occupations\n",
    "These are occupations where on-the-job training is usually provided.\n",
    "\n",
    "Few occupation groups are included in this category. There are no major outliers. This category has more labour surplus projections with larger surpluses compared to labour shortages."
   ]
  },
  {
   "cell_type": "code",
   "execution_count": 25,
   "metadata": {
    "collapsed": false
   },
   "outputs": [
    {
     "data": {
      "text/html": [
       "<div id=\"28a9208a-0009-41b5-85c2-28aae4faa16f\" style=\"height: 525; width: 100%;\" class=\"plotly-graph-div\"></div><script type=\"text/javascript\">require([\"plotly\"], function(Plotly) { window.PLOTLYENV=window.PLOTLYENV || {};window.PLOTLYENV.BASE_URL=\"https://plot.ly\";Plotly.newPlot(\"28a9208a-0009-41b5-85c2-28aae4faa16f\", [{\"y\": [8600, 6400, 1000, 900, 400, 300, 300, 200, 0, -100, -100, -100, -200, -200, -2700, -3900, -5000, -7700, -12800, -13500], \"type\": \"bar\", \"text\": [\"Janitors, caretakers and building superintendents\", \"Light duty cleaners\", \"Specialized cleaners\", \"Labourers in food, beverage and related products processing & Labourers in fish and seafood processing\", \"Labourers in textile processing & Other labourers in processing, manufacturing and utilities\", \"Labourers in wood, pulp and paper processing\", \"Public works and other labourers, n.e.c.\", \"Service station attendants\", \"Labourers in chemical products processing and utilities & Labourers in rubber and plastic products manufacturing\", \"Labourers in mineral and metal processing & Labourers in metal fabrication\", \"Other sales related occupations\", \"Harvesting labourers; Aquaculture and marine harvest labourers & Logging and forestry labourers\", \"Other service support and related occupations, n.e.c.\", \"Mine labourers & Oil and gas drilling, servicing and related labourers\", \"Support occupations in accommodation, travel and amusement services\", \"Store shelf stockers, clerks and order fillers\", \"Cashiers\", \"Landscaping and grounds maintenance labourers\", \"Trades helpers and labourers\", \"Food counter attendants, kitchen helpers and related support occupations\"], \"x\": [\"N6733\", \"N6731\", \"N6732\", \"N9617\", \"N9616\", \"N9614\", \"N7620\", \"N6621\", \"N9613\", \"N9611\", \"N6623\", \"N8611\", \"N6740\", \"N8614\", \"N6720\", \"N6622\", \"N6611\", \"N8612\", \"N7610\", \"N6711\"]}], {\"title\": \"NOC D Projections\", \"yaxis\": {\"title\": \"Net Jobs\", \"titlefont\": {\"size\": 16, \"color\": \"#7f7f7f\", \"family\": \"Courier New, monospace\"}}, \"xaxis\": {\"title\": \"NOC Codes\", \"titlefont\": {\"size\": 16, \"color\": \"#7f7f7f\", \"family\": \"Courier New, monospace\"}}}, {\"linkText\": \"Export to plot.ly\", \"showLink\": true})});</script>"
      ],
      "text/plain": [
       "<IPython.core.display.HTML object>"
      ]
     },
     "metadata": {},
     "output_type": "display_data"
    }
   ],
   "source": [
    "noc_D=all_skill_levels_sorted[all_skill_levels_sorted.NOC == \"NOC D\"]\n",
    "goodGraphs(noc_D,'NOC D Projections')"
   ]
  },
  {
   "cell_type": "markdown",
   "metadata": {},
   "source": [
    "### Occupations with positive job projections\n",
    "These are occupations where the job projections indicated a labour shortage or balance.\n",
    "\n",
    "The number of total unfilled positions is expected to be 301,000 from these occupations."
   ]
  },
  {
   "cell_type": "code",
   "execution_count": 26,
   "metadata": {
    "collapsed": false
   },
   "outputs": [
    {
     "data": {
      "text/html": [
       "<div id=\"da10250e-1cd7-4aca-9a07-6e3bf5d6683a\" style=\"height: 525; width: 100%;\" class=\"plotly-graph-div\"></div><script type=\"text/javascript\">require([\"plotly\"], function(Plotly) { window.PLOTLYENV=window.PLOTLYENV || {};window.PLOTLYENV.BASE_URL=\"https://plot.ly\";Plotly.newPlot(\"da10250e-1cd7-4aca-9a07-6e3bf5d6683a\", [{\"y\": [26900, 25700, 16200, 11200, 10900, 8600, 8400, 8100, 6400, 6200, 6000, 5000, 4600, 4400, 4000, 4000, 3800, 3800, 3600, 3600, 3200, 3100, 3100, 2900, 2800, 2600, 2400, 2400, 2400, 2300, 2200, 2100, 2000, 1900, 1900, 1900, 1800, 1800, 1600, 1600, 1600, 1600, 1500, 1500, 1400, 1400, 1400, 1300, 1300, 1300, 1300, 1300, 1200, 1200, 1200, 1200, 1200, 1200, 1200, 1200, 1200, 1100, 1100, 1100, 1000, 1000, 1000, 1000, 1000, 1000, 1000, 1000, 900, 900, 900, 900, 900, 900, 900, 800, 800, 800, 800, 800, 800, 700, 700, 700, 700, 600, 600, 600, 600, 600, 600, 600, 500, 500, 500, 500, 500, 500, 500, 500, 500, 500, 500, 500, 500, 500, 500, 500, 500, 400, 400, 400, 400, 400, 400, 400, 400, 400, 400, 400, 400, 400, 300, 300, 300, 300, 300, 300, 300, 300, 300, 300, 300, 300, 300, 300, 300, 300, 300, 300, 300, 300, 300, 300, 300, 300, 300, 200, 200, 200, 200, 200, 200, 200, 200, 200, 200, 200, 200, 200, 200, 200, 200, 200, 100, 100, 100, 100, 100, 100, 100, 100, 100, 100, 100, 100, 100, 100, 100, 100, 100, 100, 100, 0, 0, 0, 0, 0, 0, 0, 0, 0, 0, 0], \"type\": \"bar\", \"text\": [\"Transport truck drivers\", \"Registered nurses and registered psychiatric nurses\", \"General practitioners and family physicians\", \"Retail salespersons\", \"Retail and wholesale trade managers\", \"Janitors, caretakers and building superintendents\", \"Specialist physicians\", \"Managers in agriculture, horticulture and aquaculture\", \"Light duty cleaners\", \"College and other vocational instructors\", \"Home building and renovation managers\", \"Professional occupations in business management consulting\", \"Judges, lawyers and Quebec notaries\", \"Licensed practical nurses\", \"Optometrists, chiropractors and other health diagnosing and treating professionals\", \"Information systems analysts and consultants\", \"Financial auditors and accountants\", \"Transportation officers and controllers\", \"Accounting technician and bookkeepers\", \"Managers in manufacturing and utilities\", \"Administrative officers\", \"Nurse aides, orderlies and patient service associates & Other assisting occupations in support of health services\", \"Early childhood educators and assistants\", \"Aerospace engineers & Other professional engineers, n.e.c.\", \"Accounting and related clerks\", \"Contractors and supervisors, heavy equipment operator crews\", \"Restaurant and food service managers\", \"Contractors and supervisors, mechanic trades & Supervisors, printing and related occupations\", \"Storekeepers and partspersons; Production logistics co-ordinators & Purchasing and inventory control workers\", \"Industrial electricians & Power system electricians\", \"Elementary and secondary school teacher assistants\", \"Agricultural service contractors, farm supervisors and specialized livestock workers & Contractors and supervisors, landscaping, grounds maintenance and horticulture services\", \"Automotive service technician, truck and bus mechanics and mechanical repairers\", \"Aircraft assemblers and aircraft assembly inspectors; Motor vehicle assemblers, inspectors and testers & Mechanical assemblers and inspectors\", \"Supervisors, assembly and fabrication\", \"Shippers and receivers\", \"Contractors and supervisors, electrical trades and telecommunications occupations\", \"Administrative assistants\", \"Home child care providers\", \"Chefs\", \"Hairstylists and barbers\", \"Dentists\", \"Machinists and machining and tooling inspectors & Tool and die makers\", \"Construction millwrights and industrial mechanics\", \"Technical sales specialists - wholesale trade\", \"Real estate agents and salespersons\", \"Heavy equipment operators(except crane)\", \"Furniture and fixture assemblers and inspectors;  Other wood products assemblers and inspectors & Furniture finishers and refinishers\", \"Human resources professionals\", \"Receptionists\", \"Professional occupations in religion\", \"Medical administrative assistants\", \"Construction estimators\", \"Home support workers, housekeepers and related occupations\", \"Psychologists\", \"Executive housekeepers & Accommodation, travel, tourism and related services supervisors; Customer and information services supervisors; Cleaning supervisors; Other services supervisors\", \"Tailors, dressmakers, furriers and milliners & Shoe repairers and shoemakers; Jewellers, jewellery and watch repairers and related occupations; Upholsterers; Funeral directors and embalmers\", \"Delivery and courier service drivers\", \"Security guards and related security service occupations\", \"Contractors and supervisors, other construction trades, installers, repairers and servicers\", \"Police officers (except commissioned)\", \"Electricians (except industrial and power system)\", \"machine operators and related workers in mineral and metal products pr\", \"Technical occupations in architecture, drafting, surveying, geomatics\", \"Secondary school teachers\", \"Social workers & Probation and parole officers and related occupations\", \"Boat assemblers and inspectors; Plastic products assemblers, finishers and inspectors; Industrial painters, coaters and metal finishing process operators& Other products assemblers, finishers and inspectors\", \"Specialized cleaners\", \"Concrete finishers & Tilesetters\", \"Legislators and senior management\", \"Library, correspondence and other clerks\", \"Financial and investment analysts\", \"Supervisors, railway transport operations & Supervisors, motor transport and other ground transit operators\", \"Economists and economic policy researchers and analysts & Business development officers and marketing researchers and consultants\", \"Firefighters & Non-commissioned ranks of the Canadian Forces\", \"Opticians\", \"Cardiology technologists and electrophysiological diagnostic technologists, n.e.c. & Other medical technologists and technician (except dental health)\", \"Accommodation service managers\", \"Labourers in food, beverage and related products processing & Labourers in fish and seafood processing\", \"Managers in public administration\", \"Other financial officers\", \"Facility operation and maintenance managers\", \"Printing press operators and other trades and related occupations, n.e\", \"Construction managers\", \"Bus drivers, subway operators and other transit operators\", \"Executive assistants\", \"Legal administrative assistants\", \"Dispatchers & Transportation route and crew schedulers\", \"Bartenders\", \"Authors and writers; Editors & Journalists\", \"Industrial butchers and meat cutters, poultry preparers and related workers\", \"Life science professionals\", \"Bricklayers\", \"Taxi and limousine drivers and chauffeurs\", \"Advertising, marketing and public relations managers & Other business services managers\", \"Contractors and supervisors, machining, metal forming, shaping and erecting trades and related occupations\", \"Sawmill machine operators; Other wood processing machine operators; Lumber graders and other wood processing inspectors and graders & Woodworking machine operators\", \"Supervisors, finance and insurance office workers\", \"Financial managers\", \"Mail, postal and related workers\", \"Letter carriers\", \"Corporate sales managers\", \"Welders and related machine operators\", \"Assemblers and inspectors, electrical appliance, apparatus and equipment manufacturing & Assemblers, fabricators and inspectors, industrial electrical motors and transformers\", \"Construction inspectors\", \"Waterworks and gas maintenance workers; Pest controllers and fumigators & Other installers, repairers and servicers\", \"Technical occupations in libraries, public archives, museums and art galleries\", \"Musicians and singers; Dancers; Actors and comedians & Painters, sculptors and other visual artists\", \"Landscape and horticulture technician and specialists\", \"Legal and public protection support occupations\", \"Logging and forestry workers\", \"Social policy researchers, consultants and program officers & Health policy researchers, consultants and program officers\", \"Paramedical occupations\", \"Elementary school and kindergarten teachers\", \"University professors and lecturers\", \"Labourers in textile processing & Other labourers in processing, manufacturing and utilities\", \"Education policy researchers, consultants and program officers & Recreation, sports and fitness policy researchers, consultants and program officers\", \"Civil engineers\", \"Insurance, real estate and financial brokerage managers\", \"Crane operators, drillers and blasters\", \"Software engineers and designers\", \"Utilities equipment operators and controllers\", \"Fishing vessel masters and fishermen/women\", \"Computer network technician\", \"Program officers unique to government & Other professional occupations in social science, n.e.c.\", \"Banking, credit and other investment managers\", \"Managers in communication (except broadcasting)\", \"Travel counsellors\", \"Printing equipment operators and related occupations\", \"Supervisors, plastic and rubber products manufacturing; Supervisors, forest products processing & Supervisors, textile, fabric, fur and leather products processing and manufacturing\", \"Labourers in wood, pulp and paper processing\", \"Purchasing agents and officers\", \"Contractors and supervisors, carpentry trades\", \"Managers in social, community and correctional services\", \"Supervisors, general office and administrative support workers\", \"Public works maintenance equipment operators and related workers\", \"Computer and information systems managers\", \"Hotel front desk clerks\", \"Financial sales representatives\", \"School principals and administrators of elementary and secondary education\", \"Public works and other labourers, n.e.c.\", \"Electrical and electronics engineers\", \"Occupational therapists & Other professional occupations in therapy and assessment\", \"Mechanical engineering technologists and technician\", \"Insurance adjusters and claims examiners; Insurance underwriters; Assessors, valuators and appraisers & Customs, ship and other brokers\", \"Industrial and manufacturing engineers & Metallurgical and materials engineers\", \"Physical science professionals\", \"Medical laboratory technologists & Medical laboratory technician and pathologists' assistants\", \"Pharmacists\", \"Architects\", \"Respiratory therapists, clinical perfusionists and cardiopulmonary technologists; Medical radiation technologists & Medical sonographers\", \"Contractors and supervisors, pipefitting trades\", \"Managers in health care\", \"Supervisors, library, correspondence and related information workers; Supervisors, mail and message distribution occupations & Supervisors, supply chain, tracking and scheduling co-ordination occupations\", \"Service station attendants\", \"Agricultural and fish products inspectors; Forestry technologists and technician & Conservation and fishery officers\", \"Payroll clerks\", \"Technical occupations in physical sciences\", \"Personnel  and Court clerks\", \"Landscape architects; Urban and land use planners & Land surveyors\", \"Mechanical engineers\", \"Instructors of persons with disabilities\", \"Audiologists and speech-language pathologists\", \"Electrical power line and cable workers & Telecommunications line and cable workers\", \"Contractors and supervisors, mining, oil and gas\", \"Other mechanics and related repairers\", \"Family, marriage and other related counsellors\", \"Floor covering installers\", \"Administrators - post-secondary education and vocational training\", \"Pursers and flight attendants\", \"Nursery and greenhouse workers\", \"Motor vehicle body repairers\", \"Refrigeration and air conditioning mechanics; machine fitters & Elevator constructors and mechanics\", \"Managers in natural resources production and fishing\", \"Logging machinary operators\", \"Supervisors, food, beverage and related products processing\", \"Engineering managers & Architecture and science managers\", \"Managers in transportation\", \"Animal health technologists and veterinary technician\", \"Sheet metal workers; Boilermakers; Structural metal and platework fabricators and fitters & Ironworkers\", \"Supervisors, mineral and metal processing & Supervisors, petroleum, gas and chemical processing and utilities\", \"Steamfitters, pipefitters and sprinkler system installers & Gas fitters\", \"Chemical engineers\", \"Property administrators\", \"Paralegal and related occupations\", \"Mining engineers; Geological engineers & Petroleum engineers\", \"Purchasing managers & Senior managers - health, education, social and community services and membership organizations\", \"Supervisors, logging and forestry\", \"Database analysts and data administrators\", \"Industrial instrument technician and mechanics & Aircraft instrument, electrical and avionics mechanics, technician and inspectors\", \"Securities agents, investment dealers and brokers\", \"Central control and process operatorsin processing and manufacturing\", \"Nursing co-ordinators and supervisors\", \"Managers in customer and personal services, n.e.c.\", \"Industrial engineering and manufacturing technologists and technician\", \"Heavy-duty equipment mechanics\", \"Labourers in chemical products processing and utilities & Labourers in rubber and plastic products manufacturing\", \"Electrical and electronics engineering technologists and technician\"], \"x\": [\"N7511\", \"N3012\", \"N3112\", \"N6421\", \"N0621\", \"N6733\", \"N3111\", \"N0820\", \"N6731\", \"N4021\", \"N0712\", \"N1122\", \"N4110\", \"N3233\", \"N3120\", \"N2171\", \"N1111\", \"N2270\", \"N1311\", \"N0910\", \"N1221\", \"N3413\", \"N4214\", \"N2146\", \"N1431\", \"N7302\", \"N0631\", \"N7301\", \"N1522\", \"N7242\", \"N4413\", \"N8252\", \"N7321\", \"N9521\", \"N9220\", \"N1521\", \"N7202\", \"N1241\", \"N4411\", \"N6321\", \"N6341\", \"N3113\", \"N7231\", \"N7311\", \"N6221\", \"N6232\", \"N7521\", \"N9532\", \"N1121\", \"N1414\", \"N4154\", \"N1243\", \"N2234\", \"N4412\", \"N4151\", \"N6312\", \"N6342\", \"N7514\", \"N6541\", \"N7205\", \"N4311\", \"N7241\", \"N9410\", \"N2250\", \"N4031\", \"N4152\", \"N9531\", \"N6732\", \"N7282\", \"N0010\", \"N1450\", \"N1112\", \"N7304\", \"N4162\", \"N4312\", \"N3231\", \"N3217\", \"N0632\", \"N9617\", \"N0410\", \"N1114\", \"N0714\", \"N7380\", \"N0711\", \"N7512\", \"N1222\", \"N1242\", \"N1525\", \"N6512\", \"N5121\", \"N9462\", \"N2120\", \"N7281\", \"N7513\", \"N0124\", \"N7201\", \"N9431\", \"N1212\", \"N0111\", \"N1511\", \"N1512\", \"N0601\", \"N7237\", \"N9524\", \"N2264\", \"N7442\", \"N5210\", \"N5133\", \"N2225\", \"N4420\", \"N8420\", \"N4164\", \"N3234\", \"N4032\", \"N4011\", \"N9616\", \"N4166\", \"N2131\", \"N0121\", \"N7370\", \"N2173\", \"N9240\", \"N8260\", \"N2281\", \"N4168\", \"N0122\", \"N0130\", \"N6521\", \"N9470\", \"N9214\", \"N9614\", \"N1225\", \"N7204\", \"N0423\", \"N1211\", \"N7522\", \"N0213\", \"N6525\", \"N6235\", \"N0422\", \"N7620\", \"N2133\", \"N3143\", \"N2232\", \"N1312\", \"N2141\", \"N2110\", \"N3211\", \"N3131\", \"N2151\", \"N3214\", \"N7203\", \"N0311\", \"N1213\", \"N6621\", \"N2222\", \"N1432\", \"N2210\", \"N1415\", \"N2152\", \"N2132\", \"N4215\", \"N3141\", \"N7244\", \"N8220\", \"N7330\", \"N4153\", \"N7295\", \"N0421\", \"N6522\", \"N8432\", \"N7322\", \"N7313\", \"N0811\", \"N8241\", \"N9213\", \"N0211\", \"N0731\", \"N3213\", \"N7233\", \"N9211\", \"N7252\", \"N2134\", \"N1224\", \"N4211\", \"N2143\", \"N0113\", \"N8211\", \"N2172\", \"N2243\", \"N1113\", \"N9230\", \"N3011\", \"N0651\", \"N2233\", \"N7312\", \"N9613\", \"N2241\"]}], {\"title\": \"+VE Job Projections\", \"yaxis\": {\"title\": \"Net Jobs\", \"titlefont\": {\"size\": 16, \"color\": \"#7f7f7f\", \"family\": \"Courier New, monospace\"}}, \"xaxis\": {\"title\": \"NOC Codes\", \"titlefont\": {\"size\": 16, \"color\": \"#7f7f7f\", \"family\": \"Courier New, monospace\"}}}, {\"linkText\": \"Export to plot.ly\", \"showLink\": true})});</script>"
      ],
      "text/plain": [
       "<IPython.core.display.HTML object>"
      ]
     },
     "metadata": {},
     "output_type": "display_data"
    },
    {
     "name": "stdout",
     "output_type": "stream",
     "text": [
      "The total number of projected unfilled positions (with +ve job projections) is 301000\n"
     ]
    }
   ],
   "source": [
    "noc_pos=all_skill_levels_sorted[all_skill_levels_sorted.net_jobs >= 0]\n",
    "goodGraphs(noc_pos,'+VE Job Projections')\n",
    "print('The total number of projected unfilled positions (with +ve job projections) is '+ str(noc_pos.net_jobs.sum()))"
   ]
  },
  {
   "cell_type": "markdown",
   "metadata": {},
   "source": [
    "### Occupations with negative job projections\n",
    "These are occupations where the job projections indicated a labour surplus.\n",
    "\n",
    "The number of total unfilled positions is expected to be -171,400 from these occupations."
   ]
  },
  {
   "cell_type": "code",
   "execution_count": 27,
   "metadata": {
    "collapsed": false
   },
   "outputs": [
    {
     "data": {
      "text/html": [
       "<div id=\"71dad674-1574-4d70-be5b-252704895737\" style=\"height: 525; width: 100%;\" class=\"plotly-graph-div\"></div><script type=\"text/javascript\">require([\"plotly\"], function(Plotly) { window.PLOTLYENV=window.PLOTLYENV || {};window.PLOTLYENV.BASE_URL=\"https://plot.ly\";Plotly.newPlot(\"71dad674-1574-4d70-be5b-252704895737\", [{\"y\": [-100, -100, -100, -100, -100, -100, -100, -100, -100, -100, -100, -100, -200, -200, -200, -200, -200, -200, -200, -200, -200, -200, -200, -200, -200, -200, -200, -300, -300, -300, -300, -300, -300, -300, -400, -400, -400, -400, -400, -400, -500, -600, -600, -600, -600, -700, -700, -700, -700, -700, -700, -800, -800, -800, -900, -900, -900, -1000, -1000, -1100, -1100, -1100, -1200, -1200, -1400, -1400, -1500, -1500, -1600, -1800, -2000, -2200, -2300, -2300, -2400, -2600, -2600, -2700, -2700, -2900, -3000, -3000, -3900, -4100, -4400, -4500, -5000, -6900, -7700, -8300, -12800, -13500, -14300, -17500], \"type\": \"bar\", \"text\": [\"Retail and wholesale buyers\", \"Managers in public protection services\", \"Physiotherapists\", \"Biological technologists and technician\", \"Labourers in mineral and metal processing & Labourers in metal fabrication\", \"Mathematicians, statisticians and actuaries\", \"Airline ticket and service agents & Ground and water transport ticket agents, cargo service representatives and related clerks\", \"Other sales related occupations\", \"Food service supervisors\", \"Web designers and developers\", \"Harvesting labourers; Aquaculture and marine harvest labourers & Logging and forestry labourers\", \"Insurance agents and brokers\", \"Veterinarians\", \"Librarians, archivists, conservators and curators\", \"Employment counsellors\", \"Plasterers, drywall installers and finishers and lathers\", \"Cabinetmakers\", \"Practitioners of natural healing; Massage therapists & Other technical occupations in therapy and assessment\", \"Other service support and related occupations, n.e.c.\", \"Process control and machine operators, food, beverage and related products processing; Fish and seafood plant workers & Testers and graders, food, beverage and related products processing\", \"Butchers, meat cutters and fishmongers - retail and wholesale\", \"machine operators and related workers in chemical, plastic and rubber\", \"Underground production and development miners\", \"Educational counsellors\", \"Human resources managers\", \"Mine labourers & Oil and gas drilling, servicing and related labourers\", \"Dietitians and nutritionists\", \"Theatre, fashion, exhibit and other creative designers & Artisans and craftspersons; Patternmakers - textile, leather and fur products\", \"Non-destructive testers and inspection technician; Engineering inspectors and regulatory officers & Inspectors in public and environmental health and occupational health and safety\", \"Telecommunications installation and repair workers & Cable television service and maintenance technician\", \"Train crew operating occupations\", \"Translators, terminologists and interpreters\", \"Oil and gas well drillers, servicers, testers and related workers\", \"Managers in art, culture, recreation and sport\", \"Civil engineering technologists and technician\", \"Post-secondary teaching and research assistants\", \"Couriers, messengers and door-to-door distributors\", \"Retail sales supervisors\", \"Court officers and justices of the peace & Employment insurance, immigration, border services and revenue officers\", \"Plumbers\", \"Railway carmen/women & Aircraft mechanics and aircraft inspectors\", \"Industrial sewing machine operators\", \"Mine service workers and operatorsin oil and gas drilling\", \"Ma\\u00eetres d'h\\u00f4tel and hosts/hostesses\", \"Residential and commercial installers and servicers\", \"Longshore workers and material handlers\", \"Human resources and recruitment officers\", \"Court reporters, transcriptionists, records management technician And statistical officers\", \"Photographers\", \"Glaziers & Insulators\", \"Announcers and other performers, n.e.c.\", \"Image, social and other personal consultants; Pet groomers and animal care workers & Other personal service occupations\", \"Computer engineers (except software engineers and designers)\", \"Tourism and amusement services occupations\", \"Sales and account representatives - wholesale trade (non-technical)\", \"Technical occupations in dental health care\", \"Social and community service workers\", \"Textile fibre and yarn, hide and pelt processing machine operators and workers; Weavers, knitters and other fabric making occupations; Fabric, fur and leather cutters & Inspectors and graders, textile, fabric, fur and leather products manufacturing\", \"Pulp mill machine operators; Papermaking and finishing machine operators& Paper converting machine operators\", \"Other customer and information services representatives\", \"Other workers in fishing and trapping and hunting occupations\", \"Conference and event planners\", \"Electronics assemblers, fabricators, inspectors and testers\", \"Other transport equipment operators and related maintenance workers\", \"Food and beverage servers\", \"Roofers and shinglers\", \"Natural and applied science policy researchers, consultants and program officers\", \"Interior designers and interior decorators\", \"Dental assistants\", \"Producers, directors, choreographers and related occupations & Conductors, composers and arrangers\", \"General office support workers\", \"Data entry clerks & Desktop publishing operators and related occupations\", \"Painters and decorators (except interior decorators)\", \"Bakers\", \"Carpenters\", \"Other instructors & Other religious occupations\", \"Estheticians, electrologists and related occupations\", \"Banking, insurance and other financial clerks & Collectors\", \"Support occupations in accommodation, travel and amusement services\", \"Electronic service technician (household and business equipment)\", \"Professional occupations in advertising, marketing and public relations\", \"Film/video camera operators; Graphic arts technician; Broadcast technician; Audio/video recording technician; Other tech. / co-ord. occupations in motion picture, broadcasting, arts & Support occupations in motion picture, broadcasting, photography and the performing arts\", \"Store shelf stockers, clerks and order fillers\", \"Customer services representatives - financial institutions\", \"General farm workers\", \"User support technician & Information systems testing technician\", \"Cashiers\", \"Computer programmers and interactive media developers\", \"Landscaping and grounds maintenance labourers\", \"Cooks\", \"Trades helpers and labourers\", \"Food counter attendants, kitchen helpers and related support occupations\", \"Graphic designers and illustrators\", \"Athletes, coaches, referees and related occupations\"], \"x\": [\"N6222\", \"N0430\", \"N3142\", \"N2221\", \"N9611\", \"N2161\", \"N6523\", \"N6623\", \"N6311\", \"N2175\", \"N8611\", \"N6231\", \"N3114\", \"N5110\", \"N4156\", \"N7284\", \"N7272\", \"N3232\", \"N6740\", \"N9461\", \"N6331\", \"N9420\", \"N8231\", \"N4033\", \"N0112\", \"N8614\", \"N3132\", \"N5243\", \"N2261\", \"N7246\", \"N7360\", \"N5125\", \"N8232\", \"N0510\", \"N2231\", \"N4012\", \"N1513\", \"N6211\", \"N1227\", \"N7251\", \"N7314\", \"N9446\", \"N8410\", \"N6511\", \"N7441\", \"N7450\", \"N1223\", \"N1250\", \"N5221\", \"N7292\", \"N5230\", \"N6561\", \"N2147\", \"N6530\", \"N6411\", \"N3220\", \"N4212\", \"N9441\", \"N9432\", \"N6552\", \"N8440\", \"N1226\", \"N9523\", \"N7530\", \"N6513\", \"N7291\", \"N4161\", \"N5242\", \"N3411\", \"N5131\", \"N1411\", \"N1422\", \"N7294\", \"N6332\", \"N7271\", \"N4216\", \"N6562\", \"N1434\", \"N6720\", \"N2242\", \"N1123\", \"N5222\", \"N6622\", \"N6551\", \"N8431\", \"N2282\", \"N6611\", \"N2174\", \"N8612\", \"N6322\", \"N7610\", \"N6711\", \"N5241\", \"N5250\"]}], {\"title\": \"-VE Job Projections\", \"yaxis\": {\"title\": \"Net Jobs\", \"titlefont\": {\"size\": 16, \"color\": \"#7f7f7f\", \"family\": \"Courier New, monospace\"}}, \"xaxis\": {\"title\": \"NOC Codes\", \"titlefont\": {\"size\": 16, \"color\": \"#7f7f7f\", \"family\": \"Courier New, monospace\"}}}, {\"linkText\": \"Export to plot.ly\", \"showLink\": true})});</script>"
      ],
      "text/plain": [
       "<IPython.core.display.HTML object>"
      ]
     },
     "metadata": {},
     "output_type": "display_data"
    },
    {
     "name": "stdout",
     "output_type": "stream",
     "text": [
      "The total number of projected unfilled positions (with -ve job projections) is -171400\n"
     ]
    }
   ],
   "source": [
    "noc_neg=all_skill_levels_sorted[all_skill_levels_sorted.net_jobs < 0]\n",
    "goodGraphs(noc_neg,'-VE Job Projections')\n",
    "print('The total number of projected unfilled positions (with -ve job projections) is '+ str(noc_neg.net_jobs.sum()))"
   ]
  },
  {
   "cell_type": "code",
   "execution_count": 38,
   "metadata": {
    "collapsed": false
   },
   "outputs": [
    {
     "data": {
      "text/html": [
       "<div id=\"efda28a6-092a-4f7e-b628-29c2a8577646\" style=\"height: 525; width: 100%;\" class=\"plotly-graph-div\"></div><script type=\"text/javascript\">require([\"plotly\"], function(Plotly) { window.PLOTLYENV=window.PLOTLYENV || {};window.PLOTLYENV.BASE_URL=\"https://plot.ly\";Plotly.newPlot(\"efda28a6-092a-4f7e-b628-29c2a8577646\", [{\"name\": \"NOC 0\", \"x\": [93200, 53700, 57400, 28900, 29800, 30800, 20200, 13500, 12000, 26000, 16000, 26500, 8300, 9800, 20300, 3200, 19100, 30000, 15000, 19100, 5300, 4700, 19200, 9800, 10300, 7000, 2800, 17400, 6200], \"y\": [104100, 61800, 63400, 32500, 32200, 31800, 21100, 14300, 12800, 26800, 16600, 27000, 8800, 10200, 20700, 3500, 19400, 30300, 15300, 19300, 5400, 4800, 19300, 9900, 10400, 7000, 2700, 17200, 5900], \"text\": [\"Retail and wholesale trade managers\", \"Managers in agriculture, horticulture and aquaculture\", \"Home building and renovation managers\", \"Managers in manufacturing and utilities\", \"Restaurant and food service managers\", \"Legislators and senior management\", \"Accommodation service managers\", \"Managers in public administration\", \"Facility operation and maintenance managers\", \"Construction managers\", \"Advertising, marketing and public relations managers & Other business services managers\", \"Financial managers\", \"Corporate sales managers\", \"Insurance, real estate and financial brokerage managers\", \"Banking, credit and other investment managers\", \"Managers in communication (except broadcasting)\", \"Managers in social, community and correctional services\", \"Computer and information systems managers\", \"School principals and administrators of elementary and secondary education\", \"Managers in health care\", \"Administrators - post-secondary education and vocational training\", \"Managers in natural resources production and fishing\", \"Engineering managers & Architecture and science managers\", \"Managers in transportation\", \"Purchasing managers & Senior managers - health, education, social and community services and membership organizations\", \"Managers in customer and personal services, n.e.c.\", \"Managers in public protection services\", \"Human resources managers\", \"Managers in art, culture, recreation and sport\"], \"type\": \"scatter\", \"mode\": \"markers\", \"marker\": {\"size\": 12, \"line\": {\"width\": 1}}}, {\"name\": \"NOC A\", \"x\": [114000, 12100, 13100, 50900, 44300, 28100, 6400, 65500, 71300, 11400, 5400, 38900, 9100, 8800, 43000, 30500, 31300, 14500, 36500, 15800, 9800, 24200, 27700, 97300, 31500, 9200, 16600, 18200, 5200, 9000, 8500, 4900, 9900, 11000, 7200, 7900, 13400, 5000, 16000, 4200, 6700, 13600, 6700, 10100, 11000, 3200, 11800, 3000, 5400, 4900, 6100, 4400, 7300, 14900, 11400, 11100, 11600, 43300, 57400], \"y\": [139700, 28300, 21500, 57100, 49300, 32700, 10400, 69500, 75100, 14300, 7000, 40200, 10400, 10000, 44000, 31500, 32300, 15400, 37300, 16400, 10400, 24700, 28200, 97700, 31900, 9600, 17000, 18600, 5600, 9300, 8800, 5200, 10200, 11300, 7500, 8100, 13600, 5200, 16200, 4300, 6800, 13600, 6700, 10100, 10900, 3100, 11700, 2800, 5200, 4700, 5900, 4200, 7000, 14500, 10600, 9600, 9800, 40300, 50500], \"text\": [\"Registered nurses and registered psychiatric nurses\", \"General practitioners and family physicians\", \"Specialist physicians\", \"College and other vocational instructors\", \"Professional occupations in business management consulting\", \"Judges, lawyers and Quebec notaries\", \"Optometrists, chiropractors and other health diagnosing and treating professionals\", \"Information systems analysts and consultants\", \"Financial auditors and accountants\", \"Aerospace engineers & Other professional engineers, n.e.c.\", \"Dentists\", \"Human resources professionals\", \"Professional occupations in religion\", \"Psychologists\", \"Secondary school teachers\", \"Social workers & Probation and parole officers and related occupations\", \"Financial and investment analysts\", \"Economists and economic policy researchers and analysts & Business development officers and marketing researchers and consultants\", \"Other financial officers\", \"Authors and writers; Editors & Journalists\", \"Life science professionals\", \"Musicians and singers; Dancers; Actors and comedians & Painters, sculptors and other visual artists\", \"Social policy researchers, consultants and program officers & Health policy researchers, consultants and program officers\", \"Elementary school and kindergarten teachers\", \"University professors and lecturers\", \"Education policy researchers, consultants and program officers & Recreation, sports and fitness policy researchers, consultants and program officers\", \"Civil engineers\", \"Software engineers and designers\", \"Program officers unique to government & Other professional occupations in social science, n.e.c.\", \"Electrical and electronics engineers\", \"Occupational therapists & Other professional occupations in therapy and assessment\", \"Industrial and manufacturing engineers & Metallurgical and materials engineers\", \"Physical science professionals\", \"Pharmacists\", \"Architects\", \"Landscape architects; Urban and land use planners & Land surveyors\", \"Mechanical engineers\", \"Audiologists and speech-language pathologists\", \"Family, marriage and other related counsellors\", \"Chemical engineers\", \"Mining engineers; Geological engineers & Petroleum engineers\", \"Database analysts and data administrators\", \"Securities agents, investment dealers and brokers\", \"Nursing co-ordinators and supervisors\", \"Physiotherapists\", \"Mathematicians, statisticians and actuaries\", \"Web designers and developers\", \"Veterinarians\", \"Librarians, archivists, conservators and curators\", \"Employment counsellors\", \"Educational counsellors\", \"Dietitians and nutritionists\", \"Translators, terminologists and interpreters\", \"Post-secondary teaching and research assistants\", \"Computer engineers (except software engineers and designers)\", \"Natural and applied science policy researchers, consultants and program officers\", \"Producers, directors, choreographers and related occupations & Conductors, composers and arrangers\", \"Professional occupations in advertising, marketing and public relations\", \"Computer programmers and interactive media developers\"], \"type\": \"scatter\", \"mode\": \"markers\", \"marker\": {\"size\": 12, \"line\": {\"width\": 1}}}], {\"hovermode\": \"compare\", \"yaxis\": {\"gridwidth\": 2, \"ticklen\": 5, \"title\": \"Job seekers\"}, \"xaxis\": {\"gridwidth\": 2, \"ticklen\": 5, \"zeroline\": false, \"title\": \"Job openings\"}, \"title\": \"Job seekers vs Job openings\"}, {\"linkText\": \"Export to plot.ly\", \"showLink\": true})});</script>"
      ],
      "text/plain": [
       "<IPython.core.display.HTML object>"
      ]
     },
     "metadata": {},
     "output_type": "display_data"
    }
   ],
   "source": [
    "trace0 = go.Scatter(\n",
    "    x=noc_0.total_job_seekers,\n",
    "    y=noc_0.total_job_openings,\n",
    "    mode='markers',\n",
    "    marker=dict(size=12,\n",
    "                line=dict(width=1)\n",
    "               ),\n",
    "    name='NOC 0',\n",
    "    text=noc_0.occupation_name,\n",
    "    )\n",
    "\n",
    "trace1 = go.Scatter(\n",
    "    x=noc_A.total_job_seekers,\n",
    "    y=noc_A.total_job_openings,\n",
    "    mode='markers',\n",
    "    marker=dict(size=12,\n",
    "                line=dict(width=1)\n",
    "               ),\n",
    "    name='NOC A',\n",
    "    text=noc_A.occupation_name,\n",
    "        )\n",
    "\n",
    "data = [trace0, trace1]\n",
    "layout = go.Layout(\n",
    "    title='Job seekers vs Job openings',\n",
    "    hovermode='compare',\n",
    "    xaxis=dict(\n",
    "        title='Job openings',\n",
    "        ticklen=5,\n",
    "        zeroline=False,\n",
    "        gridwidth=2,\n",
    "    ),\n",
    "    yaxis=dict(\n",
    "        title='Job seekers',\n",
    "        ticklen=5,\n",
    "        gridwidth=2,\n",
    "    ),\n",
    ")\n",
    "\n",
    "iplot(go.Figure(data=data, layout=layout))\n",
    "\n"
   ]
  }
 ],
 "metadata": {
  "celltoolbar": "Raw Cell Format",
  "kernelspec": {
   "display_name": "Python 3",
   "language": "python",
   "name": "python3"
  },
  "language_info": {
   "codemirror_mode": {
    "name": "ipython",
    "version": 3
   },
   "file_extension": ".py",
   "mimetype": "text/x-python",
   "name": "python",
   "nbconvert_exporter": "python",
   "pygments_lexer": "ipython3",
   "version": "3.5.1"
  }
 },
 "nbformat": 4,
 "nbformat_minor": 0
}
